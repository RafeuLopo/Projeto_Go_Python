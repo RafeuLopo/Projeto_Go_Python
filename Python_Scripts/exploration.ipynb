{
 "cells": [
  {
   "cell_type": "code",
   "execution_count": 34,
   "metadata": {},
   "outputs": [],
   "source": [
    "import os\n",
    "import pandas as pd"
   ]
  },
  {
   "cell_type": "code",
   "execution_count": 35,
   "metadata": {},
   "outputs": [
    {
     "name": "stderr",
     "output_type": "stream",
     "text": [
      "C:\\Users\\rlope\\AppData\\Local\\Temp\\ipykernel_14628\\3805146655.py:1: DtypeWarning: Columns (1,2,4,5,6,8,32,34,38,39,40,50,71) have mixed types. Specify dtype option on import or set low_memory=False.\n",
      "  df = pd.read_csv(r'D:\\Projeto_Go_Python\\Uncompressed_Files\\carteira_investimento_mcid.csv', delimiter=';', encoding='latin1')\n",
      "C:\\Users\\rlope\\AppData\\Local\\Temp\\ipykernel_14628\\3805146655.py:2: DtypeWarning: Columns (1,2,4,5,6,8,32,34,38,39,40,50,71) have mixed types. Specify dtype option on import or set low_memory=False.\n",
      "  df2 = pd.read_csv(r'D:\\Projeto_Go_Python\\Extracted_Parquet\\processed_data.csv', encoding='latin1')\n"
     ]
    }
   ],
   "source": [
    "df = pd.read_csv(r'D:\\Projeto_Go_Python\\Uncompressed_Files\\carteira_investimento_mcid.csv', delimiter=';', encoding='latin1')\n",
    "df2 = pd.read_csv(r'D:\\Projeto_Go_Python\\Extracted_Parquet\\processed_data.csv', encoding='latin1')"
   ]
  },
  {
   "cell_type": "code",
   "execution_count": 49,
   "metadata": {},
   "outputs": [
    {
     "data": {
      "text/plain": [
       "DteAtualizacaoSituacaoAtual\n",
       "0                      82139\n",
       "0                      35170\n",
       "2024/11/08 00:00:00      886\n",
       "2024/11/04 00:00:00      719\n",
       "2024/11/07 00:00:00      621\n",
       "                       ...  \n",
       "2021/09/18 00:00:00        1\n",
       "2022/06/26 00:00:00        1\n",
       "2021/04/11 00:00:00        1\n",
       "2022/05/14 00:00:00        1\n",
       "2020/06/20 00:00:00        1\n",
       "Name: count, Length: 1480, dtype: int64"
      ]
     },
     "execution_count": 49,
     "metadata": {},
     "output_type": "execute_result"
    }
   ],
   "source": [
    "df2['DteAtualizacaoSituacaoAtual'].value_counts()"
   ]
  },
  {
   "cell_type": "code",
   "execution_count": 36,
   "metadata": {},
   "outputs": [
    {
     "data": {
      "text/plain": [
       "21994     2019/02/27 00:00:00.000\n",
       "24699     2019/02/28 00:00:00.000\n",
       "108307    2019/02/28 00:00:00.000\n",
       "10043     2019/02/28 00:00:00.000\n",
       "24549     2019/02/28 00:00:00.000\n",
       "                   ...           \n",
       "149853                        NaN\n",
       "149854                        NaN\n",
       "149855                        NaN\n",
       "149856                        NaN\n",
       "149857                        NaN\n",
       "Name: dte_atualizacao_situacao_atual, Length: 149858, dtype: object"
      ]
     },
     "execution_count": 36,
     "metadata": {},
     "output_type": "execute_result"
    }
   ],
   "source": [
    "df.dte_atualizacao_situacao_atual.sort_values()"
   ]
  },
  {
   "cell_type": "code",
   "execution_count": 42,
   "metadata": {},
   "outputs": [
    {
     "data": {
      "text/plain": [
       "array([0, 0, 0, ..., 0, 0, 0], dtype=object)"
      ]
     },
     "execution_count": 42,
     "metadata": {},
     "output_type": "execute_result"
    }
   ],
   "source": [
    "df2['DteParalisacao'].values"
   ]
  }
 ],
 "metadata": {
  "kernelspec": {
   "display_name": "base",
   "language": "python",
   "name": "python3"
  },
  "language_info": {
   "codemirror_mode": {
    "name": "ipython",
    "version": 3
   },
   "file_extension": ".py",
   "mimetype": "text/x-python",
   "name": "python",
   "nbconvert_exporter": "python",
   "pygments_lexer": "ipython3",
   "version": "3.11.7"
  }
 },
 "nbformat": 4,
 "nbformat_minor": 2
}
