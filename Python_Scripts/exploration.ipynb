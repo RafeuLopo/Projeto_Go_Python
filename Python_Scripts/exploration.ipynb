{
 "cells": [
  {
   "cell_type": "code",
   "execution_count": 1,
   "metadata": {},
   "outputs": [],
   "source": [
    "import os\n",
    "import pandas as pd"
   ]
  },
  {
   "cell_type": "code",
   "execution_count": 2,
   "metadata": {},
   "outputs": [
    {
     "name": "stderr",
     "output_type": "stream",
     "text": [
      "C:\\Users\\rlope\\AppData\\Local\\Temp\\ipykernel_6264\\3805146655.py:1: DtypeWarning: Columns (1,2,4,5,6,8,32,34,38,39,40,50,71) have mixed types. Specify dtype option on import or set low_memory=False.\n",
      "  df = pd.read_csv(r'D:\\Projeto_Go_Python\\Uncompressed_Files\\carteira_investimento_mcid.csv', delimiter=';', encoding='latin1')\n",
      "C:\\Users\\rlope\\AppData\\Local\\Temp\\ipykernel_6264\\3805146655.py:2: DtypeWarning: Columns (1,2,4,5,6,8,32,34) have mixed types. Specify dtype option on import or set low_memory=False.\n",
      "  df2 = pd.read_csv(r'D:\\Projeto_Go_Python\\Extracted_Parquet\\processed_data.csv', encoding='latin1')\n"
     ]
    }
   ],
   "source": [
    "df = pd.read_csv(r'D:\\Projeto_Go_Python\\Uncompressed_Files\\carteira_investimento_mcid.csv', delimiter=';', encoding='latin1')\n",
    "df2 = pd.read_csv(r'D:\\Projeto_Go_Python\\Extracted_Parquet\\processed_data.csv', encoding='latin1')"
   ]
  },
  {
   "cell_type": "code",
   "execution_count": 3,
   "metadata": {},
   "outputs": [
    {
     "name": "stdout",
     "output_type": "stream",
     "text": [
      "<class 'pandas.core.frame.DataFrame'>\n",
      "RangeIndex: 149858 entries, 0 to 149857\n",
      "Data columns (total 72 columns):\n",
      " #   Column                               Non-Null Count   Dtype  \n",
      "---  ------                               --------------   -----  \n",
      " 0   cod_tci                              149858 non-null  object \n",
      " 1   num_convenio                         149858 non-null  object \n",
      " 2   cod_proposta                         149858 non-null  object \n",
      " 3   num_proposta                         149858 non-null  object \n",
      " 4   cod_operacao                         149858 non-null  object \n",
      " 5   cod_dv                               149858 non-null  object \n",
      " 6   cod_contrato                         149858 non-null  object \n",
      " 7   cod_saci                             2161 non-null    float64\n",
      " 8   cod_ag_operador                      149858 non-null  object \n",
      " 9   cod_ag_financeiro                    149858 non-null  object \n",
      " 10  cod_mdr_antigo                       149858 non-null  object \n",
      " 11  bln_carga_legado_tci                 149858 non-null  object \n",
      " 12  cod_cipi_projeto_invest              149858 non-null  object \n",
      " 13  cod_cipi_intervencao                 149858 non-null  object \n",
      " 14  id_governa                           149858 non-null  object \n",
      " 15  num_generico_contrato                149858 non-null  object \n",
      " 16  txt_origem                           149858 non-null  object \n",
      " 17  txt_uf                               149858 non-null  object \n",
      " 18  txt_regiao                           149858 non-null  object \n",
      " 19  cod_ibge_6dig                        148088 non-null  float64\n",
      " 20  cod_ibge_7dig                        148088 non-null  float64\n",
      " 21  txt_municipio                        149858 non-null  object \n",
      " 22  txt_tipo_instrumento                 149858 non-null  object \n",
      " 23  dsc_objeto_instrumento               149858 non-null  object \n",
      " 24  dsc_concedente                       149858 non-null  object \n",
      " 25  txt_sigla_secretaria                 149858 non-null  object \n",
      " 26  txt_nome_secretaria                  149858 non-null  object \n",
      " 27  bln_pac                              149858 non-null  object \n",
      " 28  dsc_fase_pac                         149858 non-null  object \n",
      " 29  bln_emenda                           149858 non-null  object \n",
      " 30  num_emendas                          149858 non-null  object \n",
      " 31  qtd_emendas                          26422 non-null   float64\n",
      " 32  cod_tomador                          149858 non-null  object \n",
      " 33  txt_tomador                          149858 non-null  object \n",
      " 34  cnpj_agente_financeiro               149858 non-null  object \n",
      " 35  txt_agente_financeiro                149858 non-null  object \n",
      " 36  num_ano_instrumento                  130282 non-null  float64\n",
      " 37  dte_assinatura_contrato              119115 non-null  object \n",
      " 38  dte_fim_contrato                     82113 non-null   object \n",
      " 39  dte_inicio_obra                      5329 non-null    object \n",
      " 40  dte_fim_obra                         58495 non-null   object \n",
      " 41  bln_carteira_mcid                    149858 non-null  object \n",
      " 42  bln_carteira_ativa_mcid              149858 non-null  object \n",
      " 43  bln_carteira_andamento               149858 non-null  object \n",
      " 44  dsc_situacao_contrato_mcid           149858 non-null  object \n",
      " 45  dsc_situacao_objeto_mcid             149858 non-null  object \n",
      " 46  txt_motivo_paralisacao_mcid          149858 non-null  object \n",
      " 47  txt_principal_motivo_paralisacao     149858 non-null  object \n",
      " 48  dsc_detalhamento_motivo_paralisacao  149858 non-null  object \n",
      " 49  dsc_motivo_paralisacao               149858 non-null  object \n",
      " 50  dte_paralisacao                      7 non-null       object \n",
      " 51  dsc_fonte                            149858 non-null  object \n",
      " 52  txt_fonte                            149858 non-null  object \n",
      " 53  dsc_sub_fonte                        149858 non-null  object \n",
      " 54  cod_acao_ultimo_empenho              149858 non-null  object \n",
      " 55  vlr_investimento                     149858 non-null  object \n",
      " 56  vlr_repasse                          149858 non-null  object \n",
      " 57  vlr_contrapartida                    149858 non-null  object \n",
      " 58  vlr_empenhado                        149858 non-null  object \n",
      " 59  vlr_desembolsado                     149858 non-null  object \n",
      " 60  vlr_desbloqueado                     149858 non-null  object \n",
      " 61  vlr_pago                             149858 non-null  object \n",
      " 62  vlr_taxa_adm                         149858 non-null  object \n",
      " 63  prc_execucao_fisica                  149114 non-null  object \n",
      " 64  qtd_uh                               149858 non-null  int64  \n",
      " 65  qtd_entregues                        149857 non-null  float64\n",
      " 66  qtd_uh_distratadas                   149858 non-null  int64  \n",
      " 67  qtd_vigentes                         149858 non-null  int64  \n",
      " 68  dte_controle                         144750 non-null  object \n",
      " 69  dte_carga                            149858 non-null  object \n",
      " 70  dsc_situacao_atual                   149858 non-null  object \n",
      " 71  dte_atualizacao_situacao_atual       32549 non-null   object \n",
      "dtypes: float64(6), int64(3), object(63)\n",
      "memory usage: 82.3+ MB\n"
     ]
    }
   ],
   "source": [
    "df.info()"
   ]
  },
  {
   "cell_type": "code",
   "execution_count": 4,
   "metadata": {},
   "outputs": [
    {
     "name": "stdout",
     "output_type": "stream",
     "text": [
      "<class 'pandas.core.frame.DataFrame'>\n",
      "RangeIndex: 149858 entries, 0 to 149857\n",
      "Data columns (total 72 columns):\n",
      " #   Column                            Non-Null Count   Dtype  \n",
      "---  ------                            --------------   -----  \n",
      " 0   CodTCI                            149858 non-null  object \n",
      " 1   NumConvenio                       149858 non-null  object \n",
      " 2   CodProposta                       149858 non-null  object \n",
      " 3   NumProposta                       149858 non-null  object \n",
      " 4   CodOperacao                       149858 non-null  object \n",
      " 5   CodDV                             149858 non-null  object \n",
      " 6   CodContrato                       149858 non-null  object \n",
      " 7   CodSaci                           149858 non-null  float64\n",
      " 8   CodAgOperador                     149858 non-null  object \n",
      " 9   CodAgFinanceiro                   149858 non-null  object \n",
      " 10  CodMdrAntigo                      149858 non-null  object \n",
      " 11  BlnCargaLegadoTCI                 149858 non-null  object \n",
      " 12  CodCipiProjetoInvest              149858 non-null  object \n",
      " 13  CodCipiIntervencao                149858 non-null  object \n",
      " 14  IdGoverna                         149858 non-null  object \n",
      " 15  NumGenericoContrato               149858 non-null  object \n",
      " 16  TxtOrigem                         149858 non-null  object \n",
      " 17  TxtUF                             149858 non-null  object \n",
      " 18  TxtRegiao                         149858 non-null  object \n",
      " 19  CodIbge6dig                       149858 non-null  float64\n",
      " 20  CodIbge7dig                       149858 non-null  float64\n",
      " 21  TxtMunicipio                      149858 non-null  object \n",
      " 22  TxtTipoInstrumento                149858 non-null  object \n",
      " 23  DscObjetoInstrumento              149858 non-null  object \n",
      " 24  DscConcedente                     149858 non-null  object \n",
      " 25  TxtSiglaSecretaria                149858 non-null  object \n",
      " 26  TxtNomeSecretaria                 149858 non-null  object \n",
      " 27  BlnPac                            149858 non-null  object \n",
      " 28  DscFasePac                        149858 non-null  object \n",
      " 29  BlnEmenda                         149858 non-null  object \n",
      " 30  NumEmendas                        149858 non-null  object \n",
      " 31  QtdEmendas                        149858 non-null  float64\n",
      " 32  CodTomador                        149858 non-null  object \n",
      " 33  TxtTomador                        149858 non-null  object \n",
      " 34  CnpjAgenteFinanceiro              149858 non-null  object \n",
      " 35  TxtAgenteFinanceiro               149858 non-null  object \n",
      " 36  NumAnoInstrumento                 149858 non-null  float64\n",
      " 37  DteAssinaturaContrato             149858 non-null  int64  \n",
      " 38  DteFimContrato                    149858 non-null  int64  \n",
      " 39  DteInicioObra                     149858 non-null  int64  \n",
      " 40  DteFimObra                        149858 non-null  int64  \n",
      " 41  BlnCarteiraMcid                   149858 non-null  object \n",
      " 42  BlnCarteiraAtivaMcid              149858 non-null  object \n",
      " 43  BlnCarteiraAndamento              149858 non-null  object \n",
      " 44  DscSituacaoContratoMcid           149858 non-null  object \n",
      " 45  DscSituacaoObjetoMcid             149858 non-null  object \n",
      " 46  TxtMotivoParalisacaoMcid          149858 non-null  object \n",
      " 47  TxtPrincipalMotivoParalisacao     149858 non-null  object \n",
      " 48  DscDetalhamentoMotivoParalisacao  149858 non-null  object \n",
      " 49  DscMotivoParalisacao              149858 non-null  object \n",
      " 50  DteParalisacao                    149858 non-null  int64  \n",
      " 51  DscFonte                          149858 non-null  object \n",
      " 52  TxtFonte                          149858 non-null  object \n",
      " 53  DscSubFonte                       149858 non-null  object \n",
      " 54  CodAcaoUltimoEmpenho              149858 non-null  object \n",
      " 55  VlrInvestimento                   149858 non-null  object \n",
      " 56  VlrRepasse                        149858 non-null  object \n",
      " 57  VlrContrapartida                  149858 non-null  object \n",
      " 58  VlrEmpenhado                      149858 non-null  object \n",
      " 59  VlrDesembolsado                   149858 non-null  object \n",
      " 60  VlrDesbloqueado                   149858 non-null  object \n",
      " 61  VlrPago                           149858 non-null  object \n",
      " 62  VlrTaxaAdm                        149858 non-null  object \n",
      " 63  PrcExecucaoFisica                 149858 non-null  float64\n",
      " 64  QtdUh                             149858 non-null  int64  \n",
      " 65  QtdEntregues                      149858 non-null  float64\n",
      " 66  QtdUhDistratadas                  149858 non-null  int64  \n",
      " 67  QtdVigentes                       149858 non-null  int64  \n",
      " 68  DteControle                       149858 non-null  int64  \n",
      " 69  DteCarga                          149858 non-null  int64  \n",
      " 70  DscSituacaoAtual                  149858 non-null  object \n",
      " 71  DteAtualizacaoSituacaoAtual       149858 non-null  int64  \n",
      "dtypes: float64(7), int64(11), object(54)\n",
      "memory usage: 82.3+ MB\n"
     ]
    }
   ],
   "source": [
    "df2.info()"
   ]
  },
  {
   "cell_type": "code",
   "execution_count": 7,
   "metadata": {},
   "outputs": [
    {
     "data": {
      "text/plain": [
       "0             0.0\n",
       "1             0.0\n",
       "2             0.0\n",
       "3             0.0\n",
       "4             0.0\n",
       "           ...   \n",
       "149853    58192.0\n",
       "149854    58208.0\n",
       "149855    58210.0\n",
       "149856    58212.0\n",
       "149857    58217.0\n",
       "Name: CodSaci, Length: 149858, dtype: float64"
      ]
     },
     "execution_count": 7,
     "metadata": {},
     "output_type": "execute_result"
    }
   ],
   "source": [
    "df2['CodSaci']"
   ]
  },
  {
   "cell_type": "code",
   "execution_count": 8,
   "metadata": {},
   "outputs": [
    {
     "data": {
      "text/plain": [
       "0             NaN\n",
       "1             NaN\n",
       "2             NaN\n",
       "3             NaN\n",
       "4             NaN\n",
       "           ...   \n",
       "149853    58192.0\n",
       "149854    58208.0\n",
       "149855    58210.0\n",
       "149856    58212.0\n",
       "149857    58217.0\n",
       "Name: cod_saci, Length: 149858, dtype: float64"
      ]
     },
     "execution_count": 8,
     "metadata": {},
     "output_type": "execute_result"
    }
   ],
   "source": [
    "df['cod_saci']"
   ]
  }
 ],
 "metadata": {
  "kernelspec": {
   "display_name": "base",
   "language": "python",
   "name": "python3"
  },
  "language_info": {
   "codemirror_mode": {
    "name": "ipython",
    "version": 3
   },
   "file_extension": ".py",
   "mimetype": "text/x-python",
   "name": "python",
   "nbconvert_exporter": "python",
   "pygments_lexer": "ipython3",
   "version": "3.11.7"
  }
 },
 "nbformat": 4,
 "nbformat_minor": 2
}
