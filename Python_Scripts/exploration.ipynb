{
 "cells": [
  {
   "cell_type": "code",
   "execution_count": 26,
   "metadata": {},
   "outputs": [],
   "source": [
    "import os\n",
    "import pandas as pd"
   ]
  },
  {
   "cell_type": "code",
   "execution_count": 27,
   "metadata": {},
   "outputs": [
    {
     "name": "stderr",
     "output_type": "stream",
     "text": [
      "C:\\Users\\rlope\\AppData\\Local\\Temp\\ipykernel_14628\\3805146655.py:1: DtypeWarning: Columns (1,2,4,5,6,8,32,34,38,39,40,50,71) have mixed types. Specify dtype option on import or set low_memory=False.\n",
      "  df = pd.read_csv(r'D:\\Projeto_Go_Python\\Uncompressed_Files\\carteira_investimento_mcid.csv', delimiter=';', encoding='latin1')\n",
      "C:\\Users\\rlope\\AppData\\Local\\Temp\\ipykernel_14628\\3805146655.py:2: DtypeWarning: Columns (1,2,4,5,6,8,32,34,38,39,40,50,71) have mixed types. Specify dtype option on import or set low_memory=False.\n",
      "  df2 = pd.read_csv(r'D:\\Projeto_Go_Python\\Extracted_Parquet\\processed_data.csv', encoding='latin1')\n"
     ]
    }
   ],
   "source": [
    "df = pd.read_csv(r'D:\\Projeto_Go_Python\\Uncompressed_Files\\carteira_investimento_mcid.csv', delimiter=';', encoding='latin1')\n",
    "df2 = pd.read_csv(r'D:\\Projeto_Go_Python\\Extracted_Parquet\\processed_data.csv', encoding='latin1')"
   ]
  },
  {
   "cell_type": "code",
   "execution_count": 28,
   "metadata": {},
   "outputs": [
    {
     "data": {
      "text/plain": [
       "21994     2019/02/27 00:00:00.000\n",
       "24699     2019/02/28 00:00:00.000\n",
       "108307    2019/02/28 00:00:00.000\n",
       "10043     2019/02/28 00:00:00.000\n",
       "24549     2019/02/28 00:00:00.000\n",
       "                   ...           \n",
       "149853                        NaN\n",
       "149854                        NaN\n",
       "149855                        NaN\n",
       "149856                        NaN\n",
       "149857                        NaN\n",
       "Name: dte_atualizacao_situacao_atual, Length: 149858, dtype: object"
      ]
     },
     "execution_count": 28,
     "metadata": {},
     "output_type": "execute_result"
    }
   ],
   "source": [
    "df.dte_atualizacao_situacao_atual.sort_values()"
   ]
  },
  {
   "cell_type": "code",
   "execution_count": 29,
   "metadata": {},
   "outputs": [
    {
     "name": "stdout",
     "output_type": "stream",
     "text": [
      "<class 'pandas.core.frame.DataFrame'>\n",
      "RangeIndex: 149858 entries, 0 to 149857\n",
      "Data columns (total 72 columns):\n",
      " #   Column                            Non-Null Count   Dtype  \n",
      "---  ------                            --------------   -----  \n",
      " 0   CodTCI                            149858 non-null  object \n",
      " 1   NumConvenio                       149858 non-null  object \n",
      " 2   CodProposta                       149858 non-null  object \n",
      " 3   NumProposta                       149858 non-null  object \n",
      " 4   CodOperacao                       149858 non-null  object \n",
      " 5   CodDV                             149858 non-null  object \n",
      " 6   CodContrato                       149858 non-null  object \n",
      " 7   CodSaci                           149858 non-null  float64\n",
      " 8   CodAgOperador                     149858 non-null  object \n",
      " 9   CodAgFinanceiro                   149858 non-null  object \n",
      " 10  CodMdrAntigo                      149858 non-null  object \n",
      " 11  BlnCargaLegadoTCI                 149858 non-null  object \n",
      " 12  CodCipiProjetoInvest              149858 non-null  object \n",
      " 13  CodCipiIntervencao                149858 non-null  object \n",
      " 14  IdGoverna                         149858 non-null  object \n",
      " 15  NumGenericoContrato               149858 non-null  object \n",
      " 16  TxtOrigem                         149858 non-null  object \n",
      " 17  TxtUF                             149858 non-null  object \n",
      " 18  TxtRegiao                         149858 non-null  object \n",
      " 19  CodIbge6dig                       149858 non-null  float64\n",
      " 20  CodIbge7dig                       149858 non-null  float64\n",
      " 21  TxtMunicipio                      149858 non-null  object \n",
      " 22  TxtTipoInstrumento                149858 non-null  object \n",
      " 23  DscObjetoInstrumento              149858 non-null  object \n",
      " 24  DscConcedente                     149858 non-null  object \n",
      " 25  TxtSiglaSecretaria                149858 non-null  object \n",
      " 26  TxtNomeSecretaria                 149858 non-null  object \n",
      " 27  BlnPac                            149858 non-null  object \n",
      " 28  DscFasePac                        149858 non-null  object \n",
      " 29  BlnEmenda                         149858 non-null  object \n",
      " 30  NumEmendas                        149858 non-null  object \n",
      " 31  QtdEmendas                        149858 non-null  float64\n",
      " 32  CodTomador                        149858 non-null  object \n",
      " 33  TxtTomador                        149858 non-null  object \n",
      " 34  CnpjAgenteFinanceiro              149858 non-null  object \n",
      " 35  TxtAgenteFinanceiro               149858 non-null  object \n",
      " 36  NumAnoInstrumento                 149858 non-null  float64\n",
      " 37  DteAssinaturaContrato             149858 non-null  object \n",
      " 38  DteFimContrato                    149858 non-null  object \n",
      " 39  DteInicioObra                     149858 non-null  object \n",
      " 40  DteFimObra                        149858 non-null  object \n",
      " 41  BlnCarteiraMcid                   149858 non-null  object \n",
      " 42  BlnCarteiraAtivaMcid              149858 non-null  object \n",
      " 43  BlnCarteiraAndamento              149858 non-null  object \n",
      " 44  DscSituacaoContratoMcid           149858 non-null  object \n",
      " 45  DscSituacaoObjetoMcid             149858 non-null  object \n",
      " 46  TxtMotivoParalisacaoMcid          149858 non-null  object \n",
      " 47  TxtPrincipalMotivoParalisacao     149858 non-null  object \n",
      " 48  DscDetalhamentoMotivoParalisacao  149858 non-null  object \n",
      " 49  DscMotivoParalisacao              149858 non-null  object \n",
      " 50  DteParalisacao                    149858 non-null  object \n",
      " 51  DscFonte                          149858 non-null  object \n",
      " 52  TxtFonte                          149858 non-null  object \n",
      " 53  DscSubFonte                       149858 non-null  object \n",
      " 54  CodAcaoUltimoEmpenho              149858 non-null  object \n",
      " 55  VlrInvestimento                   149858 non-null  object \n",
      " 56  VlrRepasse                        149858 non-null  object \n",
      " 57  VlrContrapartida                  149858 non-null  object \n",
      " 58  VlrEmpenhado                      149858 non-null  object \n",
      " 59  VlrDesembolsado                   149858 non-null  object \n",
      " 60  VlrDesbloqueado                   149858 non-null  object \n",
      " 61  VlrPago                           149858 non-null  object \n",
      " 62  VlrTaxaAdm                        149858 non-null  object \n",
      " 63  PrcExecucaoFisica                 149858 non-null  float64\n",
      " 64  QtdUh                             149858 non-null  int64  \n",
      " 65  QtdEntregues                      149858 non-null  float64\n",
      " 66  QtdUhDistratadas                  149858 non-null  int64  \n",
      " 67  QtdVigentes                       149858 non-null  int64  \n",
      " 68  DteControle                       149858 non-null  object \n",
      " 69  DteCarga                          149858 non-null  object \n",
      " 70  DscSituacaoAtual                  149858 non-null  object \n",
      " 71  DteAtualizacaoSituacaoAtual       149858 non-null  object \n",
      "dtypes: float64(7), int64(3), object(62)\n",
      "memory usage: 82.3+ MB\n"
     ]
    }
   ],
   "source": [
    "df2.info()"
   ]
  }
 ],
 "metadata": {
  "kernelspec": {
   "display_name": "base",
   "language": "python",
   "name": "python3"
  },
  "language_info": {
   "codemirror_mode": {
    "name": "ipython",
    "version": 3
   },
   "file_extension": ".py",
   "mimetype": "text/x-python",
   "name": "python",
   "nbconvert_exporter": "python",
   "pygments_lexer": "ipython3",
   "version": "3.11.7"
  }
 },
 "nbformat": 4,
 "nbformat_minor": 2
}
